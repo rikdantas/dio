{
  "nbformat": 4,
  "nbformat_minor": 0,
  "metadata": {
    "colab": {
      "provenance": [],
      "authorship_tag": "ABX9TyN53A/pySRNaR0CcxpPNJwf",
      "include_colab_link": true
    },
    "kernelspec": {
      "name": "python3",
      "display_name": "Python 3"
    },
    "language_info": {
      "name": "python"
    }
  },
  "cells": [
    {
      "cell_type": "markdown",
      "metadata": {
        "id": "view-in-github",
        "colab_type": "text"
      },
      "source": [
        "<a href=\"https://colab.research.google.com/github/rikdantas/dio-pipeline-etl/blob/main/Extens%C3%A3o_Pipeline_ETL.ipynb\" target=\"_parent\"><img src=\"https://colab.research.google.com/assets/colab-badge.svg\" alt=\"Open In Colab\"/></a>"
      ]
    },
    {
      "cell_type": "markdown",
      "source": [
        "# Extensão Pipeline ETL\n",
        "Nesse notebook vai ser desenvolvido uma extensão do projeto Explorando IA Generativa em um Pipeline de ETL com Python do Bootcamp Santander em parceria com a DIO\n"
      ],
      "metadata": {
        "id": "UM4uels4NM3I"
      }
    },
    {
      "cell_type": "markdown",
      "source": [
        "O contexto é: Dado um arquivo CSV que contem nomes de alunos aleatorios, o nosso código vai extrair os dados da coluna dos nomes, ordenar de maneira crescente e garantir que todas as letras do nome estejam em letra maiúscula."
      ],
      "metadata": {
        "id": "OzcQOAU5Nhkl"
      }
    },
    {
      "cell_type": "code",
      "execution_count": 16,
      "metadata": {
        "id": "K5HiwWBpNFYx"
      },
      "outputs": [],
      "source": [
        "# Importando bibliotecas\n",
        "\n",
        "import pandas as pd"
      ]
    },
    {
      "cell_type": "markdown",
      "source": [
        "## Extract"
      ],
      "metadata": {
        "id": "hTYJ4cdvPf2W"
      }
    },
    {
      "cell_type": "code",
      "source": [
        "# Importando arquivo CSV para uma lista\n",
        "df = pd.read_csv('Alunos.csv')\n",
        "nomes = df['Nome'].tolist()\n",
        "print(nomes)"
      ],
      "metadata": {
        "colab": {
          "base_uri": "https://localhost:8080/"
        },
        "id": "qwxX-BcgPiXs",
        "outputId": "0a522447-a230-458a-9c7e-9a51e69745ad"
      },
      "execution_count": 17,
      "outputs": [
        {
          "output_type": "stream",
          "name": "stdout",
          "text": [
            "['Oscar Fontes', 'Mateus Mantovani', 'Mauro Jesus', 'Lucas Alencar', 'Danilo Serrano', 'Edson Vasconcelos', 'Milena Castro', 'Cláudia Bitencourt', 'Neusa Corrêa', 'Evelyn Rezende', 'Marlene Paschoal', 'Carla Barbosa', 'Evandro Reis', 'Fabiano Cerqueira', 'Oscar Brito', 'Norberto Vidal', 'André Brito', 'Fabiano Cerqueira', 'Norberto Vidal', 'Gislaine Rodrigues', 'Ivone Madruga', 'Darcy Serra', 'Tatiana Guedes', 'Jéssica Aguiar', 'Júlia Fontana']\n"
          ]
        }
      ]
    },
    {
      "cell_type": "markdown",
      "source": [
        "## Transform"
      ],
      "metadata": {
        "id": "H2lGg6WMQly6"
      }
    },
    {
      "cell_type": "code",
      "source": [
        "# Função para transformar as letras em maiúsculo\n",
        "def vira_maiuscula(nomes):\n",
        "  nomes_maiusculos = [nome.upper() for nome in nomes]\n",
        "  return nomes_maiusculos\n"
      ],
      "metadata": {
        "id": "BwWM5wo5Puki"
      },
      "execution_count": 18,
      "outputs": []
    },
    {
      "cell_type": "code",
      "source": [
        "# Função para ordenar os nomes\n",
        "def ordena_nomes(nomes):\n",
        "  nomes_ordenados = [sorted(nomes)]\n",
        "  return nomes_ordenados"
      ],
      "metadata": {
        "id": "V7-ODQp9Qxz5"
      },
      "execution_count": 19,
      "outputs": []
    },
    {
      "cell_type": "code",
      "source": [
        "# Chamando as funções para atingir nosso objetivo final\n",
        "nomes = vira_maiuscula(nomes)\n",
        "nomes = ordena_nomes(nomes)\n",
        "print(nomes)"
      ],
      "metadata": {
        "colab": {
          "base_uri": "https://localhost:8080/"
        },
        "id": "j41XXxq-RDrJ",
        "outputId": "87c047f2-7918-4888-fc7b-ab6e578b5ede"
      },
      "execution_count": 20,
      "outputs": [
        {
          "output_type": "stream",
          "name": "stdout",
          "text": [
            "[['ANDRÉ BRITO', 'CARLA BARBOSA', 'CLÁUDIA BITENCOURT', 'DANILO SERRANO', 'DARCY SERRA', 'EDSON VASCONCELOS', 'EVANDRO REIS', 'EVELYN REZENDE', 'FABIANO CERQUEIRA', 'FABIANO CERQUEIRA', 'GISLAINE RODRIGUES', 'IVONE MADRUGA', 'JÉSSICA AGUIAR', 'JÚLIA FONTANA', 'LUCAS ALENCAR', 'MARLENE PASCHOAL', 'MATEUS MANTOVANI', 'MAURO JESUS', 'MILENA CASTRO', 'NEUSA CORRÊA', 'NORBERTO VIDAL', 'NORBERTO VIDAL', 'OSCAR BRITO', 'OSCAR FONTES', 'TATIANA GUEDES']]\n"
          ]
        }
      ]
    },
    {
      "cell_type": "markdown",
      "source": [
        "## Load"
      ],
      "metadata": {
        "id": "91LZeAIASrUZ"
      }
    },
    {
      "cell_type": "code",
      "source": [
        "# Agora o próximo passo vai ser usar a biblioteca pandas para exportar nossa lista para um arquivo CSV\n",
        "# Crie um DataFrame a partir da lista\n",
        "df = pd.DataFrame({'Nome': nomes})\n",
        "\n",
        "# Escreva o DataFrame no arquivo CSV com o cabeçalho 'Nome'\n",
        "df.to_csv('Alunos_Final.csv', index=False)"
      ],
      "metadata": {
        "id": "k19MCea9StC7"
      },
      "execution_count": 25,
      "outputs": []
    }
  ]
}